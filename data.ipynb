{
 "cells": [
  {
   "cell_type": "code",
   "execution_count": 2,
   "id": "6f898115",
   "metadata": {},
   "outputs": [],
   "source": [
    "import os \n",
    "import numpy as np\n",
    "import pandas as pd\n",
    "import pyabf as abf\n",
    "current_path = os.getcwd()\n"
   ]
  },
  {
   "cell_type": "code",
   "execution_count": 3,
   "id": "1f4d4925",
   "metadata": {},
   "outputs": [
    {
     "data": {
      "text/plain": [
       "{}"
      ]
     },
     "execution_count": 3,
     "metadata": {},
     "output_type": "execute_result"
    }
   ],
   "source": [
    "abf_files = {}\n",
    "for dir , _ , files in os.walk(current_path):\n",
    "    for file in files:\n",
    "        if file.endswith(\".abf\"):\n",
    "            abf_files[file] = os.path.join(dir , file)\n",
    "abf_files"
   ]
  },
  {
   "cell_type": "code",
   "execution_count": 4,
   "id": "16e78871",
   "metadata": {},
   "outputs": [],
   "source": [
    "dir_name = \"dataset\"\n",
    "dir_full_path = os.path.join(current_path , dir_name)\n",
    "filtered_dataset_name = \"filtered_dataset\"\n",
    "full_filtered_dataset = os.path.join(current_path , filtered_dataset_name)\n",
    "index_folder = \"indexes\"\n",
    "full_index_folder = os.path.join(current_path , index_folder)\n",
    "\n",
    "if not os.path.exists(dir_full_path):\n",
    "    os.mkdir(dir_full_path)\n",
    "\n",
    "if not os.path.exists(full_filtered_dataset):\n",
    "    os.mkdir(full_filtered_dataset)\n",
    "\n",
    "if not os.path.exists(full_index_folder):\n",
    "    os.mkdir(full_index_folder)"
   ]
  },
  {
   "cell_type": "code",
   "execution_count": 5,
   "id": "028b0a9f",
   "metadata": {},
   "outputs": [],
   "source": [
    "# test = \"c:\\\\Users\\\\Omar Gamal\\\\Desktop\\\\Data for the project\\\\5HT\\\\current_steps\\\\17n23013.abf\"\n",
    "# data = abf.ABF(test)\n",
    "# data.setSweep(12)\n",
    "# x , y = data.sweepX , data.sweepY\n",
    "\n",
    "# print(x , y)\n",
    "\n",
    "\n",
    "for file in abf_files:\n",
    "    full_path = abf_files[file]\n",
    "    data = abf.ABF(full_path)\n",
    "    sweep_num = 12\n",
    "    while True:\n",
    "        try:\n",
    "            data.setSweep(sweep_num)\n",
    "            break\n",
    "        except:\n",
    "            sweep_num -= 1\n",
    "            if sweep_num == -1:\n",
    "                break\n",
    "    x , y = data.sweepX , data.sweepY\n",
    "    df = pd.DataFrame({\"t\" : x , \"v\" : y})\n",
    "    file_name = file[:-4]\n",
    "    break\n",
    "    # df.to_csv(os.path.join(dir_full_path , file_name + \".csv\") , index = False)\n",
    "    \n"
   ]
  },
  {
   "cell_type": "code",
   "execution_count": 6,
   "id": "f665c8b3",
   "metadata": {},
   "outputs": [],
   "source": [
    "indexs = []\n",
    "for dir , _ , files in os.walk(current_path):\n",
    "    for file in files:\n",
    "        if file == \"index.csv\":\n",
    "            indexs.append(os.path.join(dir , file))"
   ]
  },
  {
   "cell_type": "code",
   "execution_count": 7,
   "id": "a17a0094",
   "metadata": {},
   "outputs": [
    {
     "data": {
      "text/plain": [
       "[]"
      ]
     },
     "execution_count": 7,
     "metadata": {},
     "output_type": "execute_result"
    }
   ],
   "source": [
    "\n",
    "error_data = []\n",
    "read_files = []\n",
    "for index in indexs:\n",
    "    try:\n",
    "        flag = True\n",
    "        data = pd.read_csv(index)\n",
    "        all_keys = list(data.keys())\n",
    "        parameters = [\"membrane_resistance_megaohm\",\"membrane_capacitance_picofarad\",\"holding_current_picoamp\"]\n",
    "        for p in parameters:\n",
    "            if p not in all_keys:\n",
    "                flag = False\n",
    "                break\n",
    "        print(f\"flag :{flag} , {all_keys}\")\n",
    "        if flag:\n",
    "            read_files.append(data)\n",
    "    except:\n",
    "        error_data.append(index)\n",
    "\n",
    "\n",
    "read_files"
   ]
  },
  {
   "cell_type": "code",
   "execution_count": 8,
   "id": "a07609f0",
   "metadata": {},
   "outputs": [],
   "source": [
    "ready_data = []\n",
    "rest_data = []\n",
    "for file in read_files:\n",
    "    file_names = [\"filename\" , \"steps\" , \"weak_steps\"]\n",
    "    keys = file.keys()\n",
    "    flag = False\n",
    "    for file_name in file_names:\n",
    "        if file_name in keys:\n",
    "            ready_data.append(file[[\"holding_current_picoamp\" , \"membrane_capacitance_picofarad\", \"membrane_resistance_megaohm\" , file_name]])\n",
    "            flag = True\n",
    "    if flag == False:\n",
    "        rest_data.append(file)\n"
   ]
  },
  {
   "cell_type": "code",
   "execution_count": 11,
   "id": "bf94d251",
   "metadata": {},
   "outputs": [
    {
     "data": {
      "text/plain": [
       "[]"
      ]
     },
     "execution_count": 11,
     "metadata": {},
     "output_type": "execute_result"
    }
   ],
   "source": [
    "ready_data"
   ]
  },
  {
   "cell_type": "code",
   "execution_count": 18,
   "id": "35523373",
   "metadata": {},
   "outputs": [
    {
     "data": {
      "text/html": [
       "<div>\n",
       "<style scoped>\n",
       "    .dataframe tbody tr th:only-of-type {\n",
       "        vertical-align: middle;\n",
       "    }\n",
       "\n",
       "    .dataframe tbody tr th {\n",
       "        vertical-align: top;\n",
       "    }\n",
       "\n",
       "    .dataframe thead th {\n",
       "        text-align: right;\n",
       "    }\n",
       "</style>\n",
       "<table border=\"1\" class=\"dataframe\">\n",
       "  <thead>\n",
       "    <tr style=\"text-align: right;\">\n",
       "      <th></th>\n",
       "      <th>Unnamed: 0</th>\n",
       "      <th>holding_current_picoamp</th>\n",
       "      <th>membrane_capacitance_picofarad</th>\n",
       "      <th>membrane_resistance_megaohm</th>\n",
       "      <th>filename</th>\n",
       "    </tr>\n",
       "  </thead>\n",
       "  <tbody>\n",
       "    <tr>\n",
       "      <th>0</th>\n",
       "      <td>0</td>\n",
       "      <td>-11.0</td>\n",
       "      <td>43.0</td>\n",
       "      <td>707.0</td>\n",
       "      <td>17n23013.abf</td>\n",
       "    </tr>\n",
       "    <tr>\n",
       "      <th>1</th>\n",
       "      <td>1</td>\n",
       "      <td>-9.8</td>\n",
       "      <td>79.0</td>\n",
       "      <td>365.0</td>\n",
       "      <td>17n23017.abf</td>\n",
       "    </tr>\n",
       "    <tr>\n",
       "      <th>2</th>\n",
       "      <td>2</td>\n",
       "      <td>-17.1</td>\n",
       "      <td>57.0</td>\n",
       "      <td>485.0</td>\n",
       "      <td>17n23022.abf</td>\n",
       "    </tr>\n",
       "    <tr>\n",
       "      <th>3</th>\n",
       "      <td>3</td>\n",
       "      <td>2.4</td>\n",
       "      <td>61.0</td>\n",
       "      <td>1400.0</td>\n",
       "      <td>17n23027.abf</td>\n",
       "    </tr>\n",
       "    <tr>\n",
       "      <th>4</th>\n",
       "      <td>4</td>\n",
       "      <td>-27.0</td>\n",
       "      <td>39.0</td>\n",
       "      <td>919.0</td>\n",
       "      <td>17n23034.abf</td>\n",
       "    </tr>\n",
       "    <tr>\n",
       "      <th>...</th>\n",
       "      <td>...</td>\n",
       "      <td>...</td>\n",
       "      <td>...</td>\n",
       "      <td>...</td>\n",
       "      <td>...</td>\n",
       "    </tr>\n",
       "    <tr>\n",
       "      <th>98</th>\n",
       "      <td>98</td>\n",
       "      <td>-28.0</td>\n",
       "      <td>185.0</td>\n",
       "      <td>108.0</td>\n",
       "      <td>20302014.abf</td>\n",
       "    </tr>\n",
       "    <tr>\n",
       "      <th>99</th>\n",
       "      <td>99</td>\n",
       "      <td>-12.0</td>\n",
       "      <td>171.0</td>\n",
       "      <td>95.0</td>\n",
       "      <td>20302017.abf</td>\n",
       "    </tr>\n",
       "    <tr>\n",
       "      <th>100</th>\n",
       "      <td>100</td>\n",
       "      <td>-17.0</td>\n",
       "      <td>149.0</td>\n",
       "      <td>125.0</td>\n",
       "      <td>20302022.abf</td>\n",
       "    </tr>\n",
       "    <tr>\n",
       "      <th>101</th>\n",
       "      <td>101</td>\n",
       "      <td>-18.0</td>\n",
       "      <td>187.0</td>\n",
       "      <td>105.0</td>\n",
       "      <td>20302023.abf</td>\n",
       "    </tr>\n",
       "    <tr>\n",
       "      <th>102</th>\n",
       "      <td>102</td>\n",
       "      <td>-50.0</td>\n",
       "      <td>127.0</td>\n",
       "      <td>134.0</td>\n",
       "      <td>20302026.abf</td>\n",
       "    </tr>\n",
       "  </tbody>\n",
       "</table>\n",
       "<p>103 rows × 5 columns</p>\n",
       "</div>"
      ],
      "text/plain": [
       "     Unnamed: 0  holding_current_picoamp  membrane_capacitance_picofarad  \\\n",
       "0             0                    -11.0                            43.0   \n",
       "1             1                     -9.8                            79.0   \n",
       "2             2                    -17.1                            57.0   \n",
       "3             3                      2.4                            61.0   \n",
       "4             4                    -27.0                            39.0   \n",
       "..          ...                      ...                             ...   \n",
       "98           98                    -28.0                           185.0   \n",
       "99           99                    -12.0                           171.0   \n",
       "100         100                    -17.0                           149.0   \n",
       "101         101                    -18.0                           187.0   \n",
       "102         102                    -50.0                           127.0   \n",
       "\n",
       "     membrane_resistance_megaohm      filename  \n",
       "0                          707.0  17n23013.abf  \n",
       "1                          365.0  17n23017.abf  \n",
       "2                          485.0  17n23022.abf  \n",
       "3                         1400.0  17n23027.abf  \n",
       "4                          919.0  17n23034.abf  \n",
       "..                           ...           ...  \n",
       "98                         108.0  20302014.abf  \n",
       "99                          95.0  20302017.abf  \n",
       "100                        125.0  20302022.abf  \n",
       "101                        105.0  20302023.abf  \n",
       "102                        134.0  20302026.abf  \n",
       "\n",
       "[103 rows x 5 columns]"
      ]
     },
     "execution_count": 18,
     "metadata": {},
     "output_type": "execute_result"
    }
   ],
   "source": [
    "pd.read_csv(\"indexes/index_1.csv\")"
   ]
  }
 ],
 "metadata": {
  "kernelspec": {
   "display_name": "Python 3",
   "language": "python",
   "name": "python3"
  },
  "language_info": {
   "codemirror_mode": {
    "name": "ipython",
    "version": 3
   },
   "file_extension": ".py",
   "mimetype": "text/x-python",
   "name": "python",
   "nbconvert_exporter": "python",
   "pygments_lexer": "ipython3",
   "version": "3.11.0"
  }
 },
 "nbformat": 4,
 "nbformat_minor": 5
}
